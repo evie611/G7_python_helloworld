{
 "cells": [
  {
   "cell_type": "markdown",
   "metadata": {},
   "source": [
    "# G7 Python 入门课程\n",
    "## 项目1 Python操作入门\n",
    "\n",
    "入门可能主要是读取税前薪水和可能的纳税额，根据正确的公式，判断是否正确"
   ]
  },
  {
   "cell_type": "markdown",
   "metadata": {},
   "source": [
    "**提示**：这样的文字将会指导你如何使用 iPython Notebook 来完成项目。"
   ]
  },
  {
   "cell_type": "code",
   "execution_count": 1,
   "metadata": {},
   "outputs": [],
   "source": [
    "# 检查你的Python版本\n",
    "from sys import version_info\n",
    "if version_info.major != 2 and version_info.minor != 7:\n",
    "    raise Exception('请使用Python 2.7来完成此项目')"
   ]
  },
  {
   "cell_type": "code",
   "execution_count": 2,
   "metadata": {
    "scrolled": true
   },
   "outputs": [
    {
     "data": {
      "text/html": [
       "<div>\n",
       "<style scoped>\n",
       "    .dataframe tbody tr th:only-of-type {\n",
       "        vertical-align: middle;\n",
       "    }\n",
       "\n",
       "    .dataframe tbody tr th {\n",
       "        vertical-align: top;\n",
       "    }\n",
       "\n",
       "    .dataframe thead th {\n",
       "        text-align: right;\n",
       "    }\n",
       "</style>\n",
       "<table border=\"1\" class=\"dataframe\">\n",
       "  <thead>\n",
       "    <tr style=\"text-align: right;\">\n",
       "      <th></th>\n",
       "      <th>name</th>\n",
       "      <th>salary</th>\n",
       "      <th>tax_maybe</th>\n",
       "    </tr>\n",
       "  </thead>\n",
       "  <tbody>\n",
       "    <tr>\n",
       "      <th>0</th>\n",
       "      <td>wang</td>\n",
       "      <td>2500</td>\n",
       "      <td>0</td>\n",
       "    </tr>\n",
       "    <tr>\n",
       "      <th>1</th>\n",
       "      <td>zhang</td>\n",
       "      <td>7000</td>\n",
       "      <td>105</td>\n",
       "    </tr>\n",
       "    <tr>\n",
       "      <th>2</th>\n",
       "      <td>li</td>\n",
       "      <td>8000</td>\n",
       "      <td>205</td>\n",
       "    </tr>\n",
       "    <tr>\n",
       "      <th>3</th>\n",
       "      <td>song</td>\n",
       "      <td>9000</td>\n",
       "      <td>405</td>\n",
       "    </tr>\n",
       "    <tr>\n",
       "      <th>4</th>\n",
       "      <td>tang</td>\n",
       "      <td>50000</td>\n",
       "      <td>800</td>\n",
       "    </tr>\n",
       "  </tbody>\n",
       "</table>\n",
       "</div>"
      ],
      "text/plain": [
       "    name  salary  tax_maybe\n",
       "0   wang    2500          0\n",
       "1  zhang    7000        105\n",
       "2     li    8000        205\n",
       "3   song    9000        405\n",
       "4   tang   50000        800"
      ]
     },
     "metadata": {},
     "output_type": "display_data"
    }
   ],
   "source": [
    "import numpy as np\n",
    "import pandas as pd\n",
    "\n",
    "# 数据可视化代码\n",
    "from titanic_visualizations import survival_stats\n",
    "from IPython.display import display\n",
    "%matplotlib inline\n",
    "\n",
    "# 加载数据集\n",
    "in_file = 'data.csv'\n",
    "full_data = pd.read_csv(in_file)\n",
    "\n",
    "# 显示数据列表中的数据\n",
    "display(full_data)"
   ]
  },
  {
   "cell_type": "markdown",
   "metadata": {},
   "source": [
    "# 数据样本中，我们可以看到的特征\n",
    "\n",
    "- **name**：名称\n",
    "- **salary**：税前薪水\n",
    "- **tax_maybe**：可能的缴税额度"
   ]
  },
  {
   "cell_type": "markdown",
   "metadata": {},
   "source": [
    "个税的计算方式\n",
    "![xxx](https://img-blog.csdn.net/20171017113915227?watermark/2/text/aHR0cDovL2Jsb2cuY3Nkbi5uZXQvVG9nZXRoZXJfQ1o=/font/5a6L5L2T/fontsize/400/fill/I0JBQkFCMA==/dissolve/70/gravity/Center)"
   ]
  },
  {
   "cell_type": "code",
   "execution_count": 3,
   "metadata": {},
   "outputs": [],
   "source": [
    "def salary_tax(salary):\n",
    "    \"\"\"返回用户缴纳三险一金后的应计税工资\"\"\"\n",
    "\n",
    "    endowment_insurance_rate = 0.08  # 养老保险费率\n",
    "    endowment_insurance_min = 2193  # 养老保险基数最小值\n",
    "    endowment_insurance_max = 16445  # 养老保险基数最大值\n",
    "\n",
    "    provident_rate = 0.12  # 公积金费率\n",
    "    provident_max = 20972  # 公积金基数最大值\n",
    "    provident_min = 1500  # 公积金基数最小值\n",
    "\n",
    "    hospital_rate = 0.02  # 医疗保险费率\n",
    "    losejob_rate = 0.01  # 失业保险费率\n",
    "\n",
    "    # 计算应扣的养老保险费用\n",
    "    if salary < endowment_insurance_min:\n",
    "        endowment_insurance = endowment_insurance_min * endowment_insurance_rate\n",
    "    elif salary > endowment_insurance_max:\n",
    "        endowment_insurance = endowment_insurance_max * endowment_insurance_rate\n",
    "    else:\n",
    "        endowment_insurance = salary * endowment_insurance_rate\n",
    "\n",
    "    # 计算应扣公积金\n",
    "    if salary < provident_min:\n",
    "        provident = provident_min * provident_rate\n",
    "    elif salary > provident_max:\n",
    "        provident = provident_max * provident_rate\n",
    "    else:\n",
    "        provident = salary * provident_rate\n",
    "\n",
    "    # 计算应扣的医保费用\n",
    "    hospital = salary * hospital_rate\n",
    "\n",
    "    # 计算应扣的失业保险费用\n",
    "    lose_job = salary * losejob_rate\n",
    "\n",
    "    # 计算扣除三险一金后的剩余工资\n",
    "    res_money = salary - endowment_insurance - provident - hospital - lose_job\n",
    "\n",
    "    return res_money"
   ]
  },
  {
   "cell_type": "code",
   "execution_count": 4,
   "metadata": {},
   "outputs": [],
   "source": [
    "def tax_calculator(salary):\n",
    "    \"\"\"返回用户应缴纳的个税\"\"\"\n",
    "\n",
    "    tax_free_point = 3500\n",
    "    tax_level = [1500,4500,9000,35000,55000,80000,80001]\n",
    "    tax_rate = [3,10,20,25,30,35,40]\n",
    "    tax_deducted_amount = [0,105,555,1005,2755,5505,13505]\n",
    "\n",
    "    # 计算用户缴纳三险一金后的应计税工资\n",
    "    res_salary = salary_tax(salary)\n",
    "\n",
    "    # 计算用户所在的缴税级别\n",
    "    if res_salary <= tax_free_point:\n",
    "        user_tax_level = 0    # 剩余工资在3500以内，缴税级别定义为0\n",
    "    else:\n",
    "        tax_money = res_salary - tax_free_point\n",
    "\n",
    "        # 剩余金额大于3500，查询对应的缴税级别\n",
    "        if tax_money >= tax_level[-1]:\n",
    "            user_tax_level = 7    # 剩余工资大于80000，缴税级别为7级\n",
    "        else:\n",
    "            user_tax_level = 1\n",
    "            for value in tax_level[:6]:\n",
    "                if tax_money > value:\n",
    "                    user_tax_level += 1\n",
    "\n",
    "    # 计算用户应缴的税费\n",
    "    if user_tax_level == 0:\n",
    "        tax = 0\n",
    "    else:\n",
    "        tax = tax_money * tax_rate[user_tax_level-1] / 100.0 - tax_deducted_amount[user_tax_level-1]\n",
    "        \n",
    "    # 显示税前税后工资\n",
    "    print \"税前工资为：\" + str(salary) + \\\n",
    "          \"，应扣税：\" + str(tax) + \\\n",
    "          \", 税后工资为：\" + str(res_salary - tax)\n",
    "\n",
    "    return tax\n"
   ]
  },
  {
   "cell_type": "code",
   "execution_count": 5,
   "metadata": {},
   "outputs": [
    {
     "name": "stdout",
     "output_type": "stream",
     "text": [
      "税前工资为：2500，应扣税：0, 税后工资为：1925.0\n",
      "wang的应扣税为：0, 与预估值一致，so cool！\n",
      "\n",
      "税前工资为：7000，应扣税：84.0, 税后工资为：5306.0\n",
      "zhang的应扣税为：84.0, 预估值出错啦！\n",
      "\n",
      "税前工资为：8000，应扣税：161.0, 税后工资为：5999.0\n",
      "li的应扣税为：161.0, 预估值出错啦！\n",
      "\n",
      "税前工资为：9000，应扣税：238.0, 税后工资为：6692.0\n",
      "song的应扣税为：238.0, 预估值出错啦！\n",
      "\n",
      "税前工资为：50000，应扣税：9595.328, 税后工资为：35072.432\n",
      "tang的应扣税为：9595.328, 预估值出错啦！\n",
      "\n"
     ]
    }
   ],
   "source": [
    "taxs = {}\n",
    "for index, salary in full_data.iterrows():\n",
    "    user_salary = salary['salary']\n",
    "    if user_salary <= 0:\n",
    "        error_message = \"工资出错啦！！！\"\n",
    "    else:\n",
    "        tax = tax_calculator(user_salary)\n",
    "\n",
    "    taxs[salary['name']] = tax\n",
    "    \n",
    "    # 检查所得税预估值是否正确\n",
    "    if (tax == salary['tax_maybe']):\n",
    "        print salary['name'] + \"的应扣税为：\" + str(tax) + \\\n",
    "              \", 与预估值一致，so cool！\\n\"\n",
    "    else:\n",
    "        print salary['name'] + \"的应扣税为：\" + str(tax) + \\\n",
    "              \", 预估值出错啦！\\n\"\n"
   ]
  },
  {
   "cell_type": "markdown",
   "metadata": {},
   "source": [
    "## 扩展内容\n",
    "将正确的纳税额导出到export.csv，并计算预测的正确率\n"
   ]
  },
  {
   "cell_type": "code",
   "execution_count": 6,
   "metadata": {},
   "outputs": [
    {
     "name": "stdout",
     "output_type": "stream",
     "text": [
      "export done\n"
     ]
    },
    {
     "data": {
      "text/html": [
       "<div>\n",
       "<style scoped>\n",
       "    .dataframe tbody tr th:only-of-type {\n",
       "        vertical-align: middle;\n",
       "    }\n",
       "\n",
       "    .dataframe tbody tr th {\n",
       "        vertical-align: top;\n",
       "    }\n",
       "\n",
       "    .dataframe thead th {\n",
       "        text-align: right;\n",
       "    }\n",
       "</style>\n",
       "<table border=\"1\" class=\"dataframe\">\n",
       "  <thead>\n",
       "    <tr style=\"text-align: right;\">\n",
       "      <th></th>\n",
       "      <th>name</th>\n",
       "    </tr>\n",
       "  </thead>\n",
       "  <tbody>\n",
       "  </tbody>\n",
       "</table>\n",
       "</div>"
      ],
      "text/plain": [
       "Empty DataFrame\n",
       "Columns: [name]\n",
       "Index: []"
      ]
     },
     "metadata": {},
     "output_type": "display_data"
    }
   ],
   "source": [
    "def export() :\n",
    "    # TODO 请导出正确的纳税额到export.csv, tax作为最后一列\n",
    "    print \"export done\"\n",
    "    \n",
    "export()\n",
    "\n",
    "# 加载数据集\n",
    "in_file = 'export.csv'\n",
    "export_data = pd.read_csv(in_file)\n",
    "\n",
    "# 显示数据列表中的前几项数据\n",
    "display(export_data.head())"
   ]
  },
  {
   "cell_type": "code",
   "execution_count": 7,
   "metadata": {},
   "outputs": [
    {
     "data": {
      "text/plain": [
       "'accuracy of 0.00%.'"
      ]
     },
     "execution_count": 7,
     "metadata": {},
     "output_type": "execute_result"
    }
   ],
   "source": [
    "def accuracy_score():\n",
    "    # TODO 计算正确率\n",
    "    socre = 0\n",
    "    return \"accuracy of {:.2f}%.\".format(socre)\n",
    "accuracy_score()"
   ]
  },
  {
   "cell_type": "markdown",
   "metadata": {},
   "source": [
    "> **注意**: 当你写完了所有**4个TODO**。你就可以把你的 iPython Notebook 导出成 HTML 文件。你可以在菜单栏，这样导出**File -> Download as -> HTML (.html)** 把这个 HTML 和这个 iPython notebook 一起做为你的作业提交。"
   ]
  },
  {
   "cell_type": "code",
   "execution_count": null,
   "metadata": {},
   "outputs": [],
   "source": []
  },
  {
   "cell_type": "code",
   "execution_count": null,
   "metadata": {},
   "outputs": [],
   "source": []
  }
 ],
 "metadata": {
  "kernelspec": {
   "display_name": "Python 2",
   "language": "python",
   "name": "python2"
  },
  "language_info": {
   "codemirror_mode": {
    "name": "ipython",
    "version": 2
   },
   "file_extension": ".py",
   "mimetype": "text/x-python",
   "name": "python",
   "nbconvert_exporter": "python",
   "pygments_lexer": "ipython2",
   "version": "2.7.15"
  }
 },
 "nbformat": 4,
 "nbformat_minor": 2
}
